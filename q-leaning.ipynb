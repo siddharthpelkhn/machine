{
 "cells": [
  {
   "cell_type": "code",
   "execution_count": 1,
   "id": "fee07fd1",
   "metadata": {},
   "outputs": [],
   "source": [
    "import random\n",
    "import numpy as np\n",
    "\n",
    "# maze grid\n",
    "maze = [\n",
    "    [0, 0, 0, 0, 0],\n",
    "    [0, 1, 1, 1, 0],\n",
    "    [0, 0, 0, 0, 0],\n",
    "    [0, 1, 1, 1, 0],\n",
    "    [0, 0, 0, 0, 0]\n",
    "]\n",
    "\n",
    "# start and goal positions\n",
    "start = (0, 0)\n",
    "goal = (4, 4)\n",
    "\n",
    "# Q-learning parameters\n",
    "learning_rate = 0.1\n",
    "discount_factor = 0.9\n",
    "epsilon = 0.1\n",
    "\n",
    "# (up, down, left, right)\n",
    "actions = [(0, -1), (0, 1), (-1, 0), (1, 0)]\n",
    "num_actions = len(actions)  # Number of possible actions\n",
    "\n",
    "# Initialize Q-table with zeros\n",
    "num_states = len(maze) * len(maze[0])\n",
    "Q = np.zeros((num_states, num_actions))\n",
    "\n",
    "# Function to map (x, y) coordinates to a state index\n",
    "def state_to_index(state):\n",
    "    x, y = state\n",
    "    return x * len(maze[0]) + y\n",
    "\n",
    "# Function to check if a given state is valid in the maze\n",
    "def is_valid_state(state):\n",
    "    x, y = state\n",
    "    if 0 <= x < len(maze) and 0 <= y < len(maze[0]) and maze[x][y] != 1:\n",
    "        return True\n",
    "    return False\n",
    "\n",
    "# Function to take an action and return the next state\n",
    "def take_action(state, action):\n",
    "    x, y = state\n",
    "    dx, dy = actions[action]\n",
    "    next_state = (x + dx, y + dy)\n",
    "    \n",
    "    # Check if the next state is valid\n",
    "    if is_valid_state(next_state):\n",
    "        return next_state\n",
    "    else:\n",
    "        return state  # If the action is invalid, stay in the current state\n",
    "\n",
    "# Function to get the reward for a given state\n",
    "def get_reward(state):\n",
    "    if state == goal:\n",
    "        return 1  # Positive reward for reaching the goal\n",
    "    elif maze[state[0]][state[1]] == 1:\n",
    "        return -1  # Negative reward for hitting a wall\n",
    "    else:\n",
    "        return 0  # No reward for other states\n",
    "\n",
    "# Q-learning algorithm\n",
    "for episode in range(1000):  # Run for a fixed number of episodes\n",
    "    state = start\n",
    "    while state != goal:\n",
    "        state_index = state_to_index(state)\n",
    "        if random.uniform(0, 1) < epsilon:\n",
    "            action = random.randint(0, num_actions - 1)  # Exploration\n",
    "        else:\n",
    "            action = np.argmax(Q[state_index])  # Exploitation\n",
    "        next_state = take_action(state, action)\n",
    "        next_state_index = state_to_index(next_state)\n",
    "        reward = get_reward(next_state)\n",
    "        Q[state_index][action] += learning_rate * (reward + discount_factor * np.max(Q[next_state_index]) - Q[state_index][action])\n",
    "        state = next_state"
   ]
  },
  {
   "cell_type": "code",
   "execution_count": 2,
   "id": "73eb9ac1",
   "metadata": {},
   "outputs": [
    {
     "name": "stdout",
     "output_type": "stream",
     "text": [
      "Q-table:\n",
      "[[0.37851382 0.2487329  0.40772438 0.4782969 ]\n",
      " [0.38461161 0.         0.02250593 0.        ]\n",
      " [0.         0.         0.         0.        ]\n",
      " [0.         0.         0.         0.        ]\n",
      " [0.         0.         0.         0.        ]\n",
      " [0.4367319  0.44979114 0.39891109 0.531441  ]\n",
      " [0.         0.         0.         0.        ]\n",
      " [0.         0.         0.         0.        ]\n",
      " [0.         0.         0.         0.        ]\n",
      " [0.         0.         0.         0.        ]\n",
      " [0.49512896 0.37191836 0.43609877 0.59049   ]\n",
      " [0.50232296 0.0010193  0.02121818 0.        ]\n",
      " [0.05254363 0.         0.         0.        ]\n",
      " [0.         0.         0.         0.        ]\n",
      " [0.         0.         0.         0.        ]\n",
      " [0.55984764 0.5638626  0.50043993 0.6561    ]\n",
      " [0.         0.         0.         0.        ]\n",
      " [0.         0.         0.         0.        ]\n",
      " [0.         0.         0.         0.        ]\n",
      " [0.         0.         0.         0.        ]\n",
      " [0.58429946 0.729      0.55693107 0.63578606]\n",
      " [0.622948   0.81       0.71049202 0.70635189]\n",
      " [0.67656068 0.9        0.76111016 0.78740473]\n",
      " [0.68820345 1.         0.87747158 0.87676069]\n",
      " [0.         0.         0.         0.        ]]\n"
     ]
    }
   ],
   "source": [
    "# Print the Q-table\n",
    "print(\"Q-table:\")\n",
    "print(Q)"
   ]
  },
  {
   "cell_type": "code",
   "execution_count": 3,
   "id": "462f779b",
   "metadata": {},
   "outputs": [
    {
     "name": "stdout",
     "output_type": "stream",
     "text": [
      "Optimal Policy:\n",
      "[[3 0 0 0 0]\n",
      " [3 0 0 0 0]\n",
      " [3 0 0 0 0]\n",
      " [3 0 0 0 0]\n",
      " [1 1 1 1 0]]\n"
     ]
    }
   ],
   "source": [
    "# Extract the optimal policy (actions for each state)\n",
    "optimal_policy = []\n",
    "for state_index in range(num_states):\n",
    "    optimal_action = np.argmax(Q[state_index])\n",
    "    optimal_policy.append(optimal_action)\n",
    "\n",
    "# Print the optimal policy\n",
    "print(\"Optimal Policy:\")\n",
    "print(np.array(optimal_policy).reshape(len(maze), len(maze[0])))\n"
   ]
  },
  {
   "cell_type": "code",
   "execution_count": null,
   "id": "0970307b",
   "metadata": {},
   "outputs": [],
   "source": []
  }
 ],
 "metadata": {
  "kernelspec": {
   "display_name": "Python 3 (ipykernel)",
   "language": "python",
   "name": "python3"
  },
  "language_info": {
   "codemirror_mode": {
    "name": "ipython",
    "version": 3
   },
   "file_extension": ".py",
   "mimetype": "text/x-python",
   "name": "python",
   "nbconvert_exporter": "python",
   "pygments_lexer": "ipython3",
   "version": "3.9.13"
  }
 },
 "nbformat": 4,
 "nbformat_minor": 5
}
