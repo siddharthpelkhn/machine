{
  "nbformat": 4,
  "nbformat_minor": 0,
  "metadata": {
    "colab": {
      "provenance": [],
      "authorship_tag": "ABX9TyOyySVVvJDRXUT/T8cKagNT",
      "include_colab_link": true
    },
    "kernelspec": {
      "name": "python3",
      "display_name": "Python 3"
    },
    "language_info": {
      "name": "python"
    }
  },
  "cells": [
    {
      "cell_type": "markdown",
      "metadata": {
        "id": "view-in-github",
        "colab_type": "text"
      },
      "source": [
        "<a href=\"https://colab.research.google.com/github/siddharthpelkhn/machine/blob/main/car-parking-model.ipynb\" target=\"_parent\"><img src=\"https://colab.research.google.com/assets/colab-badge.svg\" alt=\"Open In Colab\"/></a>"
      ]
    },
    {
      "cell_type": "markdown",
      "source": [
        "# **Data Generation**"
      ],
      "metadata": {
        "id": "bRaASjLWhH8h"
      }
    },
    {
      "cell_type": "code",
      "execution_count": 3,
      "metadata": {
        "id": "05NbnGL7d1_I"
      },
      "outputs": [],
      "source": [
        "import numpy as np\n",
        "\n",
        "# Generating features for difficult parking scenario\n",
        "np.random.seed(42)\n",
        "X_difficult = np.random.rand(500, 3)\n",
        "X_difficult[:, 0] = np.random.uniform(0, 0.2, 500)  # Short distance to curb\n",
        "X_difficult[:, 1] = np.random.uniform(0, 0.2, 500)  # Short distance to cars\n",
        "X_difficult[:, 2] = np.random.uniform(60, 90, 500)  # Awkward angle of approach\n",
        "\n",
        "# Generating features for easy parking scenario\n",
        "X_easy = np.random.rand(500, 3)\n",
        "X_easy[:, 0] = np.random.uniform(0.5, 1, 500)  # Ample distance to curb\n",
        "X_easy[:, 1] = np.random.uniform(0.5, 1, 500)  # Ample distance to cars\n",
        "X_easy[:, 2] = np.random.uniform(0, 45, 500)  # Comfortable angle of approach"
      ]
    },
    {
      "cell_type": "markdown",
      "source": [
        "## **Concatenation and Label Generation:**"
      ],
      "metadata": {
        "id": "FM55UCYXhZAE"
      }
    },
    {
      "cell_type": "code",
      "source": [
        "# Concatenating the datasets\n",
        "X = np.vstack((X_difficult, X_easy))\n",
        "\n",
        "# Generating labels (0 for difficult scenario, 1 for easy scenario)\n",
        "y = np.concatenate((np.zeros(500), np.ones(500)))"
      ],
      "metadata": {
        "id": "X0Lvsim6hRnL"
      },
      "execution_count": 4,
      "outputs": []
    },
    {
      "cell_type": "markdown",
      "source": [
        "##**Data Splitting and Normalization:**"
      ],
      "metadata": {
        "id": "jwRrV8zzhgqt"
      }
    },
    {
      "cell_type": "code",
      "source": [
        "from sklearn.model_selection import train_test_split\n",
        "from sklearn.preprocessing import StandardScaler\n",
        "\n",
        "# Split the data into training and testing sets\n",
        "X_train, X_test, y_train, y_test = train_test_split(X, y, test_size=0.2, random_state=42)\n",
        "\n",
        "# Normalize/Standardize features\n",
        "scaler = StandardScaler()\n",
        "X_train = scaler.fit_transform(X_train)\n",
        "X_test = scaler.transform(X_test)"
      ],
      "metadata": {
        "id": "mhW39pRahdf-"
      },
      "execution_count": 5,
      "outputs": []
    },
    {
      "cell_type": "markdown",
      "source": [
        "# **Model Definition, Training, and Evaluation:**"
      ],
      "metadata": {
        "id": "fOIIDsFNi4NX"
      }
    },
    {
      "cell_type": "code",
      "source": [
        "import tensorflow as tf\n",
        "\n",
        "# Define a simple neural network model\n",
        "model = tf.keras.Sequential([\n",
        "    tf.keras.layers.Dense(32, activation='relu', input_shape=(X_train.shape[1],)),\n",
        "    tf.keras.layers.Dense(16, activation='relu'),\n",
        "    tf.keras.layers.Dense(1, activation='sigmoid')\n",
        "])\n",
        "\n",
        "# Compile the model\n",
        "model.compile(optimizer='adam', loss='binary_crossentropy', metrics=['accuracy'])\n",
        "\n",
        "# Train the model\n",
        "model.fit(X_train, y_train, epochs=10, batch_size=32, validation_split=0.1)\n",
        "\n",
        "# Evaluate the model on the test set\n",
        "test_loss, test_accuracy = model.evaluate(X_test, y_test)\n",
        "print(f\"Test accuracy: {test_accuracy}\")"
      ],
      "metadata": {
        "colab": {
          "base_uri": "https://localhost:8080/"
        },
        "id": "aETD3D1aib8O",
        "outputId": "601d5018-8bbd-497c-ac82-4d92093da44c"
      },
      "execution_count": 6,
      "outputs": [
        {
          "output_type": "stream",
          "name": "stdout",
          "text": [
            "Epoch 1/10\n",
            "23/23 [==============================] - 1s 13ms/step - loss: 0.6282 - accuracy: 0.7861 - val_loss: 0.5235 - val_accuracy: 1.0000\n",
            "Epoch 2/10\n",
            "23/23 [==============================] - 0s 3ms/step - loss: 0.4589 - accuracy: 1.0000 - val_loss: 0.3709 - val_accuracy: 1.0000\n",
            "Epoch 3/10\n",
            "23/23 [==============================] - 0s 3ms/step - loss: 0.3147 - accuracy: 1.0000 - val_loss: 0.2362 - val_accuracy: 1.0000\n",
            "Epoch 4/10\n",
            "23/23 [==============================] - 0s 4ms/step - loss: 0.1911 - accuracy: 1.0000 - val_loss: 0.1333 - val_accuracy: 1.0000\n",
            "Epoch 5/10\n",
            "23/23 [==============================] - 0s 3ms/step - loss: 0.1048 - accuracy: 1.0000 - val_loss: 0.0728 - val_accuracy: 1.0000\n",
            "Epoch 6/10\n",
            "23/23 [==============================] - 0s 3ms/step - loss: 0.0589 - accuracy: 1.0000 - val_loss: 0.0427 - val_accuracy: 1.0000\n",
            "Epoch 7/10\n",
            "23/23 [==============================] - 0s 3ms/step - loss: 0.0360 - accuracy: 1.0000 - val_loss: 0.0275 - val_accuracy: 1.0000\n",
            "Epoch 8/10\n",
            "23/23 [==============================] - 0s 3ms/step - loss: 0.0240 - accuracy: 1.0000 - val_loss: 0.0189 - val_accuracy: 1.0000\n",
            "Epoch 9/10\n",
            "23/23 [==============================] - 0s 3ms/step - loss: 0.0171 - accuracy: 1.0000 - val_loss: 0.0138 - val_accuracy: 1.0000\n",
            "Epoch 10/10\n",
            "23/23 [==============================] - 0s 4ms/step - loss: 0.0128 - accuracy: 1.0000 - val_loss: 0.0104 - val_accuracy: 1.0000\n",
            "7/7 [==============================] - 0s 2ms/step - loss: 0.0106 - accuracy: 1.0000\n",
            "Test accuracy: 1.0\n"
          ]
        }
      ]
    },
    {
      "cell_type": "markdown",
      "source": [
        "# **Convert to TensorFlow Lite:**"
      ],
      "metadata": {
        "id": "8QxqXDOpjD6r"
      }
    },
    {
      "cell_type": "code",
      "source": [
        "import tensorflow as tf\n",
        "\n",
        "# Convert the model to TensorFlow Lite format\n",
        "converter = tf.lite.TFLiteConverter.from_keras_model(model)\n",
        "tflite_model = converter.convert()\n",
        "\n",
        "# Save the converted model to a file\n",
        "with open('parking_model.tflite', 'wb') as f:f.write(tflite_model)"
      ],
      "metadata": {
        "id": "AsRrmyz5i-18"
      },
      "execution_count": 8,
      "outputs": []
    },
    {
      "cell_type": "markdown",
      "source": [
        "# **Prediction Functions:**"
      ],
      "metadata": {
        "id": "Ph3Hu4CGjNsb"
      }
    },
    {
      "cell_type": "code",
      "source": [
        "# Load the TensorFlow Lite model for parking prediction\n",
        "interpreter = tf.lite.Interpreter(model_path=\"parking_model.tflite\")\n",
        "interpreter.allocate_tensors()\n",
        "\n",
        "# Get input and output tensors\n",
        "input_details = interpreter.get_input_details()\n",
        "output_details = interpreter.get_output_details()\n",
        "\n",
        "# Function to preprocess user inputs\n",
        "def preprocess_input(distance_to_curb, distance_to_cars, angle_of_approach):\n",
        "    user_input = np.array([[distance_to_curb, distance_to_cars, angle_of_approach]])\n",
        "    user_input_scaled = scaler.transform(user_input)\n",
        "    return user_input_scaled.astype(np.float32)\n",
        "\n",
        "# Function to make predictions based on user inputs\n",
        "def predict_car_parking():\n",
        "    # Taking user inputs for features\n",
        "    distance_to_curb = float(input(\"Enter distance to curb (in meters): \"))\n",
        "    distance_to_cars = float(input(\"Enter distance to nearby cars (in meters): \"))\n",
        "    angle_of_approach = float(input(\"Enter angle of approach (in degrees): \"))\n",
        "\n",
        "    # Preprocess user inputs\n",
        "    user_input = preprocess_input(distance_to_curb, distance_to_cars, angle_of_approach)\n",
        "\n",
        "    # Set input tensor\n",
        "    interpreter.set_tensor(input_details[0]['index'], user_input)\n",
        "\n",
        "    # Run inference\n",
        "    interpreter.invoke()\n",
        "\n",
        "    # Get the model's prediction\n",
        "    output_data = interpreter.get_tensor(output_details[0]['index'])\n",
        "\n",
        "    # Display the prediction result\n",
        "    if output_data[0][0] >= 0.5:\n",
        "        print(\"Prediction: You can park the car successfully.\")\n",
        "    else:\n",
        "        print(\"Prediction: It might be difficult to park the car in this situation.\")\n",
        "\n",
        "# Call the function to get user inputs and make predictions\n",
        "predict_car_parking()"
      ],
      "metadata": {
        "colab": {
          "base_uri": "https://localhost:8080/"
        },
        "id": "dnSztviOjI9q",
        "outputId": "aa17dee4-2ac4-45c0-8be0-6611e79f4be3"
      },
      "execution_count": 9,
      "outputs": [
        {
          "output_type": "stream",
          "name": "stdout",
          "text": [
            "Enter distance to curb (in meters): 8\n",
            "Enter distance to nearby cars (in meters): 1\n",
            "Enter angle of approach (in degrees): 23\n",
            "Prediction: You can park the car successfully.\n"
          ]
        }
      ]
    },
    {
      "cell_type": "markdown",
      "source": [],
      "metadata": {
        "id": "ZauwcMnghCfq"
      }
    }
  ]
}